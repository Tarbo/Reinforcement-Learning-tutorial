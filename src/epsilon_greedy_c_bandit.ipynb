{
 "cells": [
  {
   "cell_type": "markdown",
   "metadata": {},
   "source": [
    "# Epsilon Greedy Contextual Bandit Agent\n",
    "\n",
    "## Description:\n",
    "The epsilon greedy algorithm is a popular exploration-exploitation strategy used in reinforcement learning. It is commonly used in the context of multi-armed bandit problems, where an agent needs to decide which action to take in order to maximize its cumulative reward.\n",
    "\n",
    "## Principle:\n",
    "The principle of the epsilon greedy algorithm is to balance exploration and exploitation. The agent chooses between two options: exploration, where it selects a random action to gather more information about the environment, and exploitation, where it selects the action with the highest estimated reward based on its current knowledge.\n"
   ]
  },
  {
   "cell_type": "markdown",
   "metadata": {},
   "source": []
  },
  {
   "cell_type": "code",
   "execution_count": null,
   "metadata": {},
   "outputs": [],
   "source": [
    "import numpy as np\n",
    "\n",
    "class ContextualBandit:\n",
    "    def __init__(self, num_channels, num_models, reward_probabilities):\n",
    "        self.num_channels = num_channels\n",
    "        self.num_models = num_models\n",
    "        self.reward_probabilities = reward_probabilities\n",
    "    \n",
    "    def get_reward(self, channel, model):\n",
    "        reward_probability = self.reward_probabilities[channel][model]\n",
    "        return np.random.choice([0, 1], p=[1 - reward_probability, reward_probability])\n",
    "    \n",
    "    def select_action(self, channel, epsilon):\n",
    "        if np.random.rand() < epsilon:\n",
    "            # Explore: select a random action\n",
    "            action = np.random.randint(self.num_models)\n",
    "        else:\n",
    "            # Exploit: select the action with the highest estimated reward\n",
    "            action = np.argmax(self.reward_probabilities[channel])\n",
    "        return action\n",
    "\n",
    "class EpsilonGreedyAgent:\n",
    "    def __init__(self, num_channels, num_models, epsilon):\n",
    "        self.num_channels = num_channels\n",
    "        self.num_models = num_models\n",
    "        self.epsilon = epsilon\n",
    "        self.reward_estimates = np.zeros((num_channels, num_models))\n",
    "        self.action_counts = np.zeros((num_channels, num_models))\n",
    "    \n",
    "    def update_reward_estimate(self, channel, model, reward):\n",
    "        self.action_counts[channel][model] += 1\n",
    "        alpha = 1 / self.action_counts[channel][model]\n",
    "        self.reward_estimates[channel][model] += alpha * (reward - self.reward_estimates[channel][model])\n",
    "    \n",
    "    def choose_action(self, channel):\n",
    "        return np.argmax(self.reward_estimates[channel])\n",
    "    \n",
    "    def train(self, bandit, num_episodes):\n",
    "        for episode in range(num_episodes):\n",
    "            channel = np.random.randint(bandit.num_channels)\n",
    "            action = self.choose_action(channel)\n",
    "            reward = bandit.get_reward(channel, action)\n",
    "            self.update_reward_estimate(channel, action, reward)\n"
   ]
  }
 ],
 "metadata": {
  "language_info": {
   "name": "python"
  }
 },
 "nbformat": 4,
 "nbformat_minor": 2
}
